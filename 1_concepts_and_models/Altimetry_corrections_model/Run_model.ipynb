{
 "cells": [
  {
   "cell_type": "markdown",
   "id": "fd012d10",
   "metadata": {},
   "source": [
    "<img src='https://gitlab.eumetsat.int/eumetlab/oceans/ocean-training/tools/frameworks/-/raw/main/img/Standard_banner.png' align='right' width='100%'/>"
   ]
  },
  {
   "cell_type": "markdown",
   "id": "2aaf5d57",
   "metadata": {},
   "source": [
    "<font color=\"#138D75\">**Copernicus Marine Training Service**</font> <br>\n",
    "**Copyright:** 2023 EUMETSAT <br>\n",
    "**License:** MIT <br>\n",
    "**Authors:** Ben Loveday (EUMETSAT/Innoflair UG), Hayley Evers-King (EUMETSAT), Vinca Rosmorduc (CLS)"
   ]
  },
  {
   "cell_type": "markdown",
   "id": "22037f27",
   "metadata": {},
   "source": [
    "<div class=\"alert alert-block alert-success\">\n",
    "<h3>Altimetry applications</h3></div>"
   ]
  },
  {
   "cell_type": "markdown",
   "id": "c590dc15",
   "metadata": {},
   "source": [
    "<div class=\"alert alert-block alert-warning\">\n",
    "    \n",
    "<b>PREREQUISITES </b>\n",
    "    \n",
    "This notebook has the following prerequisites:\n",
    "- You should have built and activated the appropriate `cmts_altimetry_applications` Python environment in either your command line, or in the Anaconda navigator prior to launching this notebook.\n",
    "\n",
    "</div>\n",
    "<hr>"
   ]
  },
  {
   "cell_type": "markdown",
   "id": "9905be0b",
   "metadata": {},
   "source": [
    "# Altimetry Corrections Model\n",
    "\n",
    "### Learning objectives\n",
    "\n",
    "* ...\n",
    "\n",
    "### Outline\n",
    "\n",
    "....\n",
    "\n",
    "<div class=\"alert alert-info\" role=\"alert\">\n",
    "\n",
    "## <a id='TOC-TOP'></a>Contents\n",
    "\n",
    "</div>\n",
    "    \n",
    " 1. [Setting up the model](#section1)\n",
    " 1. [Running the model](#section2)\n",
    "\n",
    "<hr>"
   ]
  },
  {
   "cell_type": "markdown",
   "id": "cbde77c2",
   "metadata": {},
   "source": [
    "<div class=\"alert alert-info\" role=\"alert\">\n",
    "\n",
    "## <a id='section1'></a>1. Setting up the model\n",
    "[Back to top](#TOC-TOP)\n",
    "\n",
    "</div>"
   ]
  },
  {
   "cell_type": "markdown",
   "id": "37edf1f1",
   "metadata": {},
   "source": [
    "The forward model is built entirely in Python and can be simply imported using the single line below. Should you wish to explore the code, you can find the models modules in the `correction_model` folder in the same directory of this notebook. "
   ]
  },
  {
   "cell_type": "code",
   "execution_count": 1,
   "id": "602e5727",
   "metadata": {
    "tags": []
   },
   "outputs": [
    {
     "ename": "SyntaxError",
     "evalue": "invalid syntax (main.py, line 140)",
     "output_type": "error",
     "traceback": [
      "Traceback \u001b[0;36m(most recent call last)\u001b[0m:\n",
      "\u001b[0m  File \u001b[1;32m~/anaconda3/envs/cmts_altimetry_applications/lib/python3.9/site-packages/IPython/core/interactiveshell.py:3526\u001b[0m in \u001b[1;35mrun_code\u001b[0m\n    exec(code_obj, self.user_global_ns, self.user_ns)\u001b[0m\n",
      "\u001b[0m  Cell \u001b[1;32mIn[1], line 2\u001b[0m\n    import correction_model\u001b[0m\n",
      "\u001b[0;36m  File \u001b[0;32m~/Code/Git_Reps/CMTS/internal/applications/altimetry-applications/1_concepts_and_models/Altimetry_corrections_model/correction_model/__init__.py:5\u001b[0;36m\n\u001b[0;31m    from .main import CorrectionModel\u001b[0;36m\n",
      "\u001b[0;36m  File \u001b[0;32m~/Code/Git_Reps/CMTS/internal/applications/altimetry-applications/1_concepts_and_models/Altimetry_corrections_model/correction_model/main.py:140\u001b[0;36m\u001b[0m\n\u001b[0;31m    self.track_number = self..children[0].children[1].children[0].children[0].value\u001b[0m\n\u001b[0m                             ^\u001b[0m\n\u001b[0;31mSyntaxError\u001b[0m\u001b[0;31m:\u001b[0m invalid syntax\n"
     ]
    }
   ],
   "source": [
    "%matplotlib widget\n",
    "import correction_model"
   ]
  },
  {
   "cell_type": "markdown",
   "id": "02726cb8",
   "metadata": {},
   "source": [
    "Now that the components of the model are imported we can initialise it using the `correction_model.CorrectionModel()` method. We shall choose to save this into a variable called `model` so that we can manipulate some of its attributes, should we want to.\n",
    "\n",
    "*Note: For example, if you want to change the ylimits of the Rrs axis you can use `model.ax_rrs.set_ylim([lower, upper])`* <<< FIX"
   ]
  },
  {
   "cell_type": "code",
   "execution_count": null,
   "id": "fe34b37b",
   "metadata": {},
   "outputs": [],
   "source": [
    "model = correction_model.CorrectionModel()"
   ]
  },
  {
   "cell_type": "markdown",
   "id": "64be01e4",
   "metadata": {},
   "source": [
    "<div class=\"alert alert-info\" role=\"alert\">\n",
    "\n",
    "## <a id='section2'></a>2. Running the model\n",
    "[Back to top](#TOC-TOP)\n",
    "\n",
    "</div>"
   ]
  },
  {
   "cell_type": "markdown",
   "id": "8b30eb1d",
   "metadata": {},
   "source": [
    "UPDATE TEXT\n",
    "Things to add:\n",
    "* implement flags button (annoying to remove and then re-apply!)\n",
    "* plot surface class flag values on the graph as a scatter? (memory intensive?)"
   ]
  },
  {
   "cell_type": "code",
   "execution_count": null,
   "id": "4b99f7cb",
   "metadata": {},
   "outputs": [],
   "source": [
    "model"
   ]
  },
  {
   "cell_type": "markdown",
   "id": "08a88f82",
   "metadata": {},
   "source": [
    "<a href=\"https://gitlab.com/benloveday/oc_forward_model\" target=\"_blank\">View on GitLab</a> | <a href=\"https://training.eumetsat.int/\" target=\"_blank\">EUMETSAT Training</a> | <a href=mailto:ops@eumetsat.int target=\"_blank\">Contact helpdesk for support </a> | <a href=mailto:Copernicus.training@eumetsat.int target=\"_blank\">Contact our training team to collaborate on and reuse this material</a></span></p>"
   ]
  }
 ],
 "metadata": {
  "kernelspec": {
   "display_name": "Python 3 (ipykernel)",
   "language": "python",
   "name": "python3"
  },
  "language_info": {
   "codemirror_mode": {
    "name": "ipython",
    "version": 3
   },
   "file_extension": ".py",
   "mimetype": "text/x-python",
   "name": "python",
   "nbconvert_exporter": "python",
   "pygments_lexer": "ipython3",
   "version": "3.9.18"
  }
 },
 "nbformat": 4,
 "nbformat_minor": 5
}
