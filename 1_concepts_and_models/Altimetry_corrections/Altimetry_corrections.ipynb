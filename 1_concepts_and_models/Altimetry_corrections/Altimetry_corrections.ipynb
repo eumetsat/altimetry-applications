{
 "cells": [
  {
   "cell_type": "markdown",
   "id": "fd012d10",
   "metadata": {},
   "source": [
    "<img src='https://gitlab.eumetsat.int/eumetlab/oceans/ocean-training/tools/frameworks/-/raw/main/img/Standard_banner.png' align='right' width='100%'/>"
   ]
  },
  {
   "cell_type": "markdown",
   "id": "2aaf5d57",
   "metadata": {},
   "source": [
    "<font color=\"#138D75\">**Copernicus Marine Training Service**</font> <br>\n",
    "**Copyright:** 2025 European Union <br>\n",
    "**License:** MIT <br>\n",
    "**Authors:** Ben Loveday (EUMETSAT/Innoflair UG), Hayley Evers-King (EUMETSAT), Vinca Rosmorduc (CLS)"
   ]
  },
  {
   "cell_type": "markdown",
   "id": "bc2a7243-54e6-4973-a4d0-c71e68f0aec0",
   "metadata": {},
   "source": [
    "<html>\n",
    "   <div style=\"float:left\"><p>&emsp;</p></div>\n",
    "   <div style=\"float:left\"><a href=\"https://gitlab.eumetsat.int/eumetlab/oceans/ocean-training/applications/altimetry-applications\"><img src=\"https://img.shields.io/badge/open-EUMETLAB-E67E22.svg\"></a></div>\n",
    "   <div style=\"float:left\"><p>&emsp;</p></div>\n",
    "   <div style=\"float:left\"><a href=\"https://user.eumetsat.int/data/themes/marine\"><img src=\"https://img.shields.io/badge/open-USER PORTAL-154360.svg\"></a></div>\n",
    "   <div style=\"float:left\"><p>&emsp;</p></div>\n",
    "   <div style=\"float:left\"><a href=\"https://mybinder.org/v2/git/https%3A%2F%2Fgitlab.eumetsat.int%2Feumetlab%2Foceans%2Focean-training%2Fapplications%2Faltimetry-applications/HEAD?labpath=1_concepts_and_models%2FAltimetry_corrections%2FAltimetry_corrections.ipynb\"><img src=\"https://mybinder.org/badge_logo.svg\"></a></div>\n",
    "   <div style=\"float:left\"><p>&emsp;</p></div>\n",
    "   <div style=\"float:left\"><a href=\"https://jupyterhub.prod.wekeo2.eu/hub/user-redirect/lab/tree/public/wekeo4oceans/altimetry-applications/1_concepts_and_models/Altimetry_corrections/Altimetry_corrections.ipynb\"><img src=\"https://img.shields.io/badge/launch-WEKEO-1a4696.svg\"></a></div>\n",
    "   <div style=\"float:left\"><p>&emsp;</p></div>\n",
    "   <div style=\"float:left\"><a href=\"https://code.insula.destine.eu/hub/\"><img src=\"https://img.shields.io/badge/launch-DestinE-f43fd3.svg\"></a></div></div>\n",
    "</html>"
   ]
  },
  {
   "cell_type": "markdown",
   "id": "22037f27",
   "metadata": {},
   "source": [
    "<div class=\"alert alert-block alert-success\">\n",
    "<h3>Altimetry applications</h3></div>"
   ]
  },
  {
   "cell_type": "markdown",
   "id": "c590dc15",
   "metadata": {},
   "source": [
    "<div class=\"alert alert-block alert-warning\">\n",
    "    \n",
    "<b>PREREQUISITES </b>\n",
    "    \n",
    "This notebook has the following prerequisites:\n",
    "- You should have built and activated the appropriate `cmts_altimetry_applications` Python environment in either your command line, or in the Anaconda navigator prior to launching this notebook.\n",
    "\n",
    "There are no prerequisite notebooks for this module, but you may wish to look at the following notebooks on the ionospheric correction of Sentinel-6 products; <br>\n",
    "\n",
    "- **<a href=\"https://gitlab.eumetsat.int/eumetlab/oceans/ocean-training/sensors/learn-s6/-/blob/main/2_S6_advanced/2_4_iono_corr_solarstorms.ipynb\" target=\"_blank\">How can a solar storm impact SSH measurement?</a>**\n",
    "\n",
    "</div>\n",
    "<hr>"
   ]
  },
  {
   "cell_type": "markdown",
   "id": "9905be0b",
   "metadata": {},
   "source": [
    "# Investigating altimetry corrections\n",
    "\n",
    "### Learning objectives\n",
    "\n",
    "At the end of this notebook you will know;\n",
    "\n",
    "* the atmospheric and surface corrections necessary for altimetry retrievals\n",
    "* how these corrections than affect our measurement of sea surface height\n",
    "\n",
    "### Outline\n",
    "\n",
    "To make accurate retrievals of surface topography, we need to make a number of corrections.\n",
    "\n",
    "<div class=\"alert alert-info\" role=\"alert\">\n",
    "\n",
    "## <a id='TOC-TOP'></a>Contents\n",
    "\n",
    "</div>\n",
    "    \n",
    " 1. [Setting up the model](#section1)\n",
    " 1. [Running the model](#section2)\n",
    "\n",
    "<hr>"
   ]
  },
  {
   "cell_type": "markdown",
   "id": "cbde77c2",
   "metadata": {},
   "source": [
    "<div class=\"alert alert-info\" role=\"alert\">\n",
    "\n",
    "## <a id='section1'></a>1. Setting up the model\n",
    "[Back to top](#TOC-TOP)\n",
    "\n",
    "</div>"
   ]
  },
  {
   "cell_type": "markdown",
   "id": "37edf1f1",
   "metadata": {},
   "source": [
    "The altimetry correction model is built entirely in Python and can be simply imported using the single line below. Should you wish to explore the code, you can find the models modules in the `correction_model` folder in the same directory of this notebook. "
   ]
  },
  {
   "cell_type": "code",
   "execution_count": 1,
   "id": "602e5727",
   "metadata": {
    "tags": []
   },
   "outputs": [],
   "source": [
    "%matplotlib widget\n",
    "import correction_model"
   ]
  },
  {
   "cell_type": "markdown",
   "id": "02726cb8",
   "metadata": {},
   "source": [
    "Now that the components of the model are imported we can initialise it using the `correction_model.CorrectionModel()` method. We shall choose to save this into a variable called `model` so that we can manipulate some of its attributes, should we want to."
   ]
  },
  {
   "cell_type": "code",
   "execution_count": 2,
   "id": "fe34b37b",
   "metadata": {},
   "outputs": [],
   "source": [
    "model = correction_model.CorrectionModel()"
   ]
  },
  {
   "cell_type": "markdown",
   "id": "64be01e4",
   "metadata": {},
   "source": [
    "<div class=\"alert alert-info\" role=\"alert\">\n",
    "\n",
    "## <a id='section2'></a>2. Running the model\n",
    "[Back to top](#TOC-TOP)\n",
    "\n",
    "</div>"
   ]
  },
  {
   "cell_type": "markdown",
   "id": "9e8ba4fb-9ddb-4f52-b265-295bb650c8e0",
   "metadata": {},
   "source": [
    "Lets now call up the model so that we can interact with it. We can do this by simply calling `model`, as below..."
   ]
  },
  {
   "cell_type": "code",
   "execution_count": 3,
   "id": "4b99f7cb",
   "metadata": {},
   "outputs": [
    {
     "data": {
      "application/vnd.jupyter.widget-view+json": {
       "model_id": "b5a13086bd8a416bb240541d44dedc85",
       "version_major": 2,
       "version_minor": 0
      },
      "text/plain": [
       "CorrectionModel(children=(HBox(children=(Output(layout=Layout(height='185px', margin='0px 10px 10px 0px', padd…"
      ]
     },
     "execution_count": 3,
     "metadata": {},
     "output_type": "execute_result"
    }
   ],
   "source": [
    "model"
   ]
  },
  {
   "cell_type": "markdown",
   "id": "8b30eb1d",
   "metadata": {},
   "source": [
    "<div class=\"alert alert-block alert-success\">\n",
    "\n",
    "## Using the model\n",
    "\n",
    "If everything worked as expected, you should see a number of windows. On the top row, from left to right, we show;\n",
    "\n",
    "* The coverage map of the selected altimetry track. This will scale with the latitude slider.\n",
    "* The track selection box. You can add to this box by adding new tracks in the relevant folder. More information on this below\n",
    "* The reference surface that we want to measure our sea surface height against. Changing this value will affect how the main graph is displayed\n",
    "\n",
    "On the middle row, from left to right, we show;\n",
    "\n",
    "* The selectable corrections to the sea surface height. Some boxes act as aggregators, and will \"grey out\" options that are already selected (e.g. All ocean tides encompasses Ocean tide, Ocean tide non-equilibrium and Internal ocean tide). You can clear all corrections using the clear corrections button at the bottom of this section.\n",
    "* The main graph, which shows the sea surface height (SSH) for the chosen track (in black) and, if a correction is selected, the corrected SSH (in red). The graph extent will scale with the latitude slider.\n",
    "* The latitude slider, which will determine the extent of the coverage map and main graph.\n",
    "\n",
    "On the bottom row, we have;\n",
    "\n",
    "* a list of surface flags that can be selected/deselected (you cannot deselect ocean points)\n",
    "\n",
    "</div>\n",
    "<hr>\n",
    "\n",
    "## Notes on expanding the model;\n",
    "\n",
    "* **adding tracks** - you can add either reference or user tracks, depending on your needs. By convention the reference tracks are those required by the models narrative, while user tracks are added on the fly for experimentation.\n",
    "  * For a reference track to be recognised, it needs to be either a Sentinel-3 SRAL or Sentinel-6 standard or reduced product and added to the `correction_model/reference_tracks` directory with the following naming structure **ref\\<track number>\\_\\<your chosen tag>\\_\\<S3 or S6>.nc**, e.g. ref01_standard_measurement_S3.nc. In addition, you need to name the track in the `correction_model/model_params.ini` file. Tracks are named in file name order.\n",
    "  * For a user track to be recognised, it needs to be either a Sentinel-3 SRAL or Sentinel-6 standard or reduced product and added to the `correction_model/user_tracks` directory with any naming structure that retains either S3 or S6 to specify the satellite being used (e.g. user01_whatever_**S3**.nc and **S3**A_SR_2_WAT____20250318T121137_20250318T122136_20250318T132124_0599_123_365______MAR_O_NR_G61_reduced.nc would both work, but standard_measurement.nc would not)"
   ]
  },
  {
   "cell_type": "markdown",
   "id": "08a88f82",
   "metadata": {},
   "source": [
    "<a href=\"https://gitlab.com/benloveday/oc_forward_model\" target=\"_blank\">View on GitLab</a> | <a href=\"https://training.eumetsat.int/\" target=\"_blank\">EUMETSAT Training</a> | <a href=mailto:ops@eumetsat.int target=\"_blank\">Contact helpdesk for support </a> | <a href=mailto:Copernicus.training@eumetsat.int target=\"_blank\">Contact our training team to collaborate on and reuse this material</a></span></p>"
   ]
  }
 ],
 "metadata": {
  "kernelspec": {
   "display_name": "Python 3 (ipykernel)",
   "language": "python",
   "name": "python3"
  },
  "language_info": {
   "codemirror_mode": {
    "name": "ipython",
    "version": 3
   },
   "file_extension": ".py",
   "mimetype": "text/x-python",
   "name": "python",
   "nbconvert_exporter": "python",
   "pygments_lexer": "ipython3",
   "version": "3.10.16"
  }
 },
 "nbformat": 4,
 "nbformat_minor": 5
}
