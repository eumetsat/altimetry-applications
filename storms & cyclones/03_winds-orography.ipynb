{
 "cells": [
  {
   "cell_type": "markdown",
   "metadata": {},
   "source": [
    "# A look at winds & SWH data in link with land topography #\n",
    "\n",
    "Winds are blowing over continents & islands, but are impacted by reliefs and this can be seen in ocean altimetry data. A North Atlantic storm mid-January 2023 crossed South-West France/North Spain into the Mediterranean Sea, winds blowing all the way and over the Sea again. It reached the Mediterranean waters early on 2023/01/18.\n",
    "\n",
    "<br>made for Eumetsat Copernicus Marine Data Service by V. Rosmorduc, CLS"
   ]
  },
  {
   "cell_type": "markdown",
   "metadata": {},
   "source": [
    "** Import libraries **"
   ]
  },
  {
   "cell_type": "code",
   "execution_count": 1,
   "metadata": {},
   "outputs": [],
   "source": [
    "#data retrieval\n",
    "import os\n",
    "import json\n",
    "import eumdac\n",
    "import datetime\n",
    "import shutil                                  # a library that allows us access to basic operating system commands\n",
    "import zipfile                                 # a library that support zipping/unzipping files\n",
    "# reading / using NetCDF data\n",
    "import xarray\n",
    "#plotting libraries (including mapping)\n",
    "import matplotlib\n",
    "import matplotlib.pyplot as plt\n",
    "%matplotlib inline\n",
    "import cartopy\n",
    "import cartopy.crs as ccrs\n",
    "import cartopy.io.img_tiles as cimgt"
   ]
  },
  {
   "cell_type": "markdown",
   "metadata": {},
   "source": [
    "We will be looking at an area north-west of the Mediterranean Sea, along the French and Spanish coasts, including the Balearic Island. "
   ]
  },
  {
   "cell_type": "code",
   "execution_count": 2,
   "metadata": {},
   "outputs": [],
   "source": [
    "#area \n",
    "lon_min = 0; lon_max = 5; lat_min = 35; lat_max = 45\n",
    "\n",
    "# Create a download directory for our products\n",
    "download_dir = os.path.join(os.getcwd(), \"products\")\n",
    "os.makedirs(download_dir, exist_ok=True)"
   ]
  },
  {
   "cell_type": "code",
   "execution_count": 3,
   "metadata": {},
   "outputs": [],
   "source": [
    "# load credentials\n",
    "with open(os.path.join(os.path.expanduser(\"~\"),'.eumdac_credentials')) as json_file:\n",
    "    credentials = json.load(json_file)\n",
    "    token = eumdac.AccessToken((credentials['consumer_key'], credentials['consumer_secret']))\n",
    "    print(f\"This token '{token}' expires {token.expiration}\")\n",
    "\n",
    "# create data store object\n",
    "datastore = eumdac.DataStore(token)"
   ]
  },
  {
   "cell_type": "code",
   "execution_count": 4,
   "metadata": {},
   "outputs": [],
   "source": [
    "#list all SRAL and Poseidon-4 collection IDs - we don't know a priori which satellite we are interested in. \n",
    "datastore = eumdac.DataStore(token)\n",
    "for collection_id in datastore.collections:\n",
    "    if (\"SRAL\" in collection_id.title) or (\"Poseidon-4\" in collection_id.title):\n",
    "        print(f\"Collection ID({collection_id}): {collection_id.title}\")"
   ]
  },
  {
   "cell_type": "markdown",
   "metadata": {},
   "source": [
    "From the lists above, we will pick the \"SRAL Level 2 Altimetry Global - Sentinel-3\" collection ID. Note that it includes both Sentinel-3A & Sentinel-3B, and this at NRT, STC and NTC delays.\n",
    "At this date (2023/02/15) only Sentinel-6 reprocessed data are available through the data store so not for 2023/01/18."
   ]
  },
  {
   "cell_type": "code",
   "execution_count": 5,
   "metadata": {},
   "outputs": [],
   "source": [
    "collectionID = 'EO:EUM:DAT:0415'\n",
    "# space/time filter the collection for products\n",
    "selected_collection = datastore.get_collection(collectionID)\n",
    "# we will look only in the morning (00:01 to 13:00 UTC)\n",
    "start = datetime.datetime(2023, 1, 18, 1, 0)\n",
    "end = datetime.datetime(2023, 1, 18, 12, 0) # end not in selection, as usual in Python!\n",
    "\n",
    "roi = [[lon_min, lat_max], [lon_max, lat_max], [lon_max, lat_min], [lon_min, lat_min], [lon_min, lat_max]]\n",
    "\n",
    "products = selected_collection.search(\n",
    "    geo='POLYGON(({}))'.format(','.join([\"{} {}\".format(*coord) for coord in roi])),\n",
    "    dtstart=start, \n",
    "    dtend=end)\n",
    "\n",
    "for product in products:\n",
    "    print(product)"
   ]
  },
  {
   "cell_type": "markdown",
   "metadata": {},
   "source": [
    "Download all three products, with the three different files in plus manifest file, zipped and unzip them."
   ]
  },
  {
   "cell_type": "code",
   "execution_count": 6,
   "metadata": {},
   "outputs": [],
   "source": [
    "for product in products:\n",
    "    selected_product = datastore.get_product(product_id=product, collection_id=collectionID)\n",
    "    with selected_product.open() as fsrc, open(os.path.join(download_dir, fsrc.name), mode='wb') as fdst:\n",
    "        print(f'Downloading {fsrc.name}')\n",
    "        shutil.copyfileobj(fsrc, fdst)\n",
    "        print(f'Download of product {fsrc.name} finished.')\n",
    "\n",
    "    # Unzip the product\n",
    "    with zipfile.ZipFile(fdst.name, 'r') as zip_ref:\n",
    "        for file in zip_ref.namelist():\n",
    "            if file.startswith(str(selected_product)):\n",
    "                zip_ref.extract(file, download_dir)\n",
    "        print(f'Unzipping of product {selected_product} finished.')\n",
    "     # Clean up\n",
    "    os.remove(fdst.name)"
   ]
  },
  {
   "cell_type": "markdown",
   "metadata": {},
   "source": [
    "To restrict the download, we can use different options. "
   ]
  },
  {
   "cell_type": "code",
   "execution_count": 7,
   "metadata": {},
   "outputs": [],
   "source": [
    "# check on the different attributes searchable for a product.\n",
    "selected_collection = datastore.get_collection(collectionID)\n",
    "selected_collection.search_options"
   ]
  },
  {
   "cell_type": "markdown",
   "metadata": {},
   "source": [
    "So, to only download only one file we'll be using, select only the \"reduced\" file pnly from the NRT delay ('NR') and download it. "
   ]
  },
  {
   "cell_type": "code",
   "execution_count": 8,
   "metadata": {},
   "outputs": [],
   "source": [
    "for product in products:\n",
    "    if product.timeliness == 'NR':\n",
    "        print(product)\n",
    "        for entry in product.entries:\n",
    "            if 'reduced_measurement.nc' in entry:\n",
    "                with product.open(entry=entry) as fsrc, open(os.path.join(os.getcwd(), 'products',fsrc.name), mode='wb') as fdst:\n",
    "                    print(f'Downloading {fsrc.name}.')\n",
    "                    shutil.copyfileobj(fsrc, fdst)\n",
    "                    print(f'Download of file {fsrc.name} finished.')"
   ]
  },
  {
   "cell_type": "markdown",
   "metadata": {},
   "source": [
    "## Plot waves and winds from altimetry ##"
   ]
  },
  {
   "cell_type": "code",
   "execution_count": 9,
   "metadata": {},
   "outputs": [],
   "source": [
    "productID = '' # we only download the reduced file, not the whole zip with the three files.\n",
    "input_file = os.path.join(download_dir, productID, 'reduced_measurement.nc')\n",
    "ncalti = xarray.open_dataset(input_file)"
   ]
  },
  {
   "cell_type": "code",
   "execution_count": null,
   "metadata": {},
   "outputs": [],
   "source": [
    "# load the data ; we take the Significant Wave Height field at 1 Hz in Ku band, SAR-mode (plrm would do, too), \n",
    "# over ocean surfaces.\n",
    "lat = ncalti['lat_01']\n",
    "lon = ncalti['lon_01']\n",
    "swh = ncalti.variables['swh_ocean_01_ku']\n",
    "lat = lat[ ncalti['surf_class_01']==0 ]\n",
    "lon = lon[ ncalti['surf_class_01']==0 ]\n",
    "swh = swh[ ncalti['surf_class_01']==0 ]\n",
    "\n",
    "#plot it on a map\n",
    "fig = plt.figure(figsize=(24,16))\n",
    "ax = plt.axes(projection=ccrs.PlateCarree())\n",
    "#ax.add_feature(cartopy.feature.LAND, edgecolor='k', facecolor='lightgrey')\n",
    "#ax.add_feature(cartopy.feature.BORDERS)\n",
    "\n",
    "ax.gridlines(crs=ccrs.PlateCarree(), draw_labels=True, linewidth=1, color='gray', alpha=0.5, linestyle='--')\n",
    "ax.set_extent([lon_min, lon_max, lat_min, lat_max], crs=ccrs.PlateCarree())\n",
    "tiler = cimgt.Stamen('terrain-background')\n",
    "zoom = 8\n",
    "ax.add_image(tiler, zoom)\n",
    "\n",
    "\n",
    "# actually plot the data\n",
    "tracks = ax.scatter(lon, lat, c=swh,  vmin=0, vmax=5, cmap='cubehelix', marker='o', edgecolors='black', linewidth=0.01)\n",
    "cbar = plt.colorbar(tracks)\n",
    "plt.title('swh [m]', size=18)\n",
    "plt.show()"
   ]
  },
  {
   "cell_type": "code",
   "execution_count": null,
   "metadata": {},
   "outputs": [],
   "source": [
    "# load the data ; we take the Significant Wave Height field at 1 Hz in Ku band\n",
    "#wind_speed_alt_01_plrm_ku\n",
    "winds = ncalti.variables['wind_speed_alt_01_ku']\n",
    "winds = winds[ ncalti['surf_class_01']==0 ]\n",
    "\n",
    "#plot it on a map\n",
    "fig = plt.figure(figsize=(24,16))\n",
    "ax = plt.axes(projection=ccrs.PlateCarree())\n",
    "ax.gridlines(crs=ccrs.PlateCarree(), draw_labels=True, linewidth=1, color='gray', alpha=0.5, linestyle='--')\n",
    "ax.set_extent([lon_min, lon_max, lat_min, lat_max], crs=ccrs.PlateCarree())\n",
    "tiler = cimgt.Stamen('terrain-background')\n",
    "zoom = 8\n",
    "ax.add_image(tiler, zoom)\n",
    "# actually plot the data\n",
    "tracks = ax.scatter(lon, lat, c=winds,  vmin=0, vmax=20, cmap='turbo', marker='o', edgecolors='black', linewidth=0.01)\n",
    "cbar = plt.colorbar(tracks)\n",
    "plt.title('winds [m/s]', size=18)\n",
    "plt.show()\n",
    "ncalti.close()"
   ]
  },
  {
   "cell_type": "markdown",
   "metadata": {},
   "source": [
    "Plot along the latitude only, to have another look at the dynamic of the wave heights. "
   ]
  },
  {
   "cell_type": "code",
   "execution_count": null,
   "metadata": {},
   "outputs": [],
   "source": [
    "fig = plt.figure(figsize=(16,8))\n",
    "plt.ylabel('swh (in m)')\n",
    "plt.xlabel('Latitude')\n",
    "plt.axis([lat_min, lat_max, 0, 6])\n",
    "plt.plot(lat, swh)"
   ]
  },
  {
   "cell_type": "markdown",
   "metadata": {},
   "source": [
    "Plot also the winds along the latitude only"
   ]
  },
  {
   "cell_type": "code",
   "execution_count": null,
   "metadata": {},
   "outputs": [],
   "source": [
    "fig = plt.figure(figsize=(16,8))\n",
    "plt.ylabel('altimeter wind speed (in m/s)')\n",
    "plt.xlabel('Latitude')\n",
    "plt.axis([lat_min, lat_max, 0, 20])\n",
    "plt.plot(lat, winds)"
   ]
  },
  {
   "cell_type": "markdown",
   "metadata": {},
   "source": [
    "## SAR wind data ##\n",
    "Extreme winds data are available through www.esa-cyms.org (on the ftp data access).\n",
    "\n",
    "SAR data at 5:53 UTC, alti data at about 10:20 UTC (file from 10:04 to 10:52), so more than 4 hours after -- winds had time to change."
   ]
  },
  {
   "cell_type": "code",
   "execution_count": null,
   "metadata": {},
   "outputs": [],
   "source": [
    "sar_file = 'data/s1a-iw-owi-cm-20230118t055303-20230118t055508-000003-046834_gs.nc'\n",
    "\n",
    "#plot it on a map\n",
    "fig = plt.figure(figsize=(24,16))\n",
    "ax = plt.axes(projection=ccrs.PlateCarree())\n",
    "ax.gridlines(crs=ccrs.PlateCarree(), draw_labels=True, linewidth=1, color='gray', alpha=0.5, linestyle='--')\n",
    "ax.set_extent([lon_min, lon_max, lat_min, lat_max], crs=ccrs.PlateCarree())\n",
    "tiler = cimgt.Stamen('terrain-background')\n",
    "zoom = 8\n",
    "ax.add_feature(cartopy.feature.LAND, edgecolor='k', facecolor='lightgrey')\n",
    "ax.add_image(tiler, zoom)\n",
    "\n",
    "ncsar = xarray.load_dataset(sar_file)\n",
    "latsar = ncsar.variables['latitude'][0]\n",
    "lonsar = ncsar.variables['longitude'][0]\n",
    "windsar = ncsar.variables['wind_speed'][0]\n",
    "mymap = ax.pcolor(lonsar, latsar, windsar, vmin=0, vmax=20, cmap='turbo')\n",
    "tracks = ax.scatter(lon, lat, c=winds,  vmin=0, vmax=20, cmap='turbo', marker='o', edgecolors='black', linewidth=0.1)\n",
    "ncsar.close()\n",
    "\n",
    "# add colorbar\n",
    "cbar = plt.colorbar(mymap)\n",
    "plt.title('wind speed [m/s]', size=16)"
   ]
  }
 ],
 "metadata": {
  "kernelspec": {
   "display_name": "Python 3 (ipykernel)",
   "language": "python",
   "name": "python3"
  },
  "language_info": {
   "codemirror_mode": {
    "name": "ipython",
    "version": 3
   },
   "file_extension": ".py",
   "mimetype": "text/x-python",
   "name": "python",
   "nbconvert_exporter": "python",
   "pygments_lexer": "ipython3",
   "version": "3.9.16"
  }
 },
 "nbformat": 4,
 "nbformat_minor": 2
}
