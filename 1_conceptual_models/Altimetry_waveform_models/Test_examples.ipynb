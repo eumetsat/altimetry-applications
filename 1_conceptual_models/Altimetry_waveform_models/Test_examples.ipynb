{
 "cells": [
  {
   "cell_type": "code",
   "execution_count": 1,
   "id": "0e87cfd1-0126-462e-bd55-bb3ac59ccdd3",
   "metadata": {
    "tags": []
   },
   "outputs": [],
   "source": [
    "#import example"
   ]
  },
  {
   "cell_type": "code",
   "execution_count": 2,
   "id": "4754bf4f-980b-481d-ab8f-df51e508aad7",
   "metadata": {
    "tags": []
   },
   "outputs": [],
   "source": [
    "#example.app.run_server(debug=True)"
   ]
  },
  {
   "cell_type": "code",
   "execution_count": 3,
   "id": "24a57a76-ac52-45ea-9167-4488619cd9ea",
   "metadata": {
    "tags": []
   },
   "outputs": [],
   "source": [
    "#import model"
   ]
  },
  {
   "cell_type": "code",
   "execution_count": 4,
   "id": "99fbc871-fce8-4e55-be4b-aeb9f2da70e0",
   "metadata": {
    "tags": []
   },
   "outputs": [],
   "source": [
    "#model.app.run_server(debug=True)"
   ]
  },
  {
   "cell_type": "code",
   "execution_count": 5,
   "id": "d00d2f14-52d2-48aa-a2c8-c49a17d35a22",
   "metadata": {},
   "outputs": [],
   "source": [
    "import example2"
   ]
  },
  {
   "cell_type": "code",
   "execution_count": 6,
   "id": "e511613f-21c9-4c40-b171-c53383b8ac31",
   "metadata": {
    "tags": []
   },
   "outputs": [
    {
     "name": "stdout",
     "output_type": "stream",
     "text": [
      "Dash is running on http://127.0.0.1:8050/\n",
      "\n",
      "Dash app running on http://127.0.0.1:8050/\n"
     ]
    }
   ],
   "source": [
    "example2.app.run_server(debug=True)"
   ]
  }
 ],
 "metadata": {
  "kernelspec": {
   "display_name": "Python 3 (ipykernel)",
   "language": "python",
   "name": "python3"
  },
  "language_info": {
   "codemirror_mode": {
    "name": "ipython",
    "version": 3
   },
   "file_extension": ".py",
   "mimetype": "text/x-python",
   "name": "python",
   "nbconvert_exporter": "python",
   "pygments_lexer": "ipython3",
   "version": "3.9.16"
  }
 },
 "nbformat": 4,
 "nbformat_minor": 5
}
