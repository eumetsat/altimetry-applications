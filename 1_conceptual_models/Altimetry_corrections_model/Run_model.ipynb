{
 "cells": [
  {
   "cell_type": "markdown",
   "id": "fd012d10",
   "metadata": {},
   "source": [
    "<img src='https://gitlab.eumetsat.int/eumetlab/oceans/ocean-training/tools/frameworks/-/raw/main/img/Standard_banner.png' align='right' width='100%'/>"
   ]
  },
  {
   "cell_type": "markdown",
   "id": "2aaf5d57",
   "metadata": {},
   "source": [
    "<font color=\"#138D75\">**Copernicus Marine Training Service**</font> <br>\n",
    "**Copyright:** 2023 EUMETSAT <br>\n",
    "**License:** MIT <br>\n",
    "**Authors:** Ben Loveday (EUMETSAT/Innoflair UG), Hayley Evers-King (EUMETSAT), Vinca Rosmorduc (CLS)"
   ]
  },
  {
   "cell_type": "markdown",
   "id": "22037f27",
   "metadata": {},
   "source": [
    "<div class=\"alert alert-block alert-success\">\n",
    "<h3>Altimetry applications</h3></div>"
   ]
  },
  {
   "cell_type": "markdown",
   "id": "c590dc15",
   "metadata": {},
   "source": [
    "<div class=\"alert alert-block alert-warning\">\n",
    "    \n",
    "<b>PREREQUISITES </b>\n",
    "    \n",
    "This notebook has the following prerequisites:\n",
    "- You should have built and activated the appropriate `cmts_altimetry_applications` Python environment in either your command line, or in the Anaconda navigator prior to launching this notebook.\n",
    "\n",
    "</div>\n",
    "<hr>"
   ]
  },
  {
   "cell_type": "markdown",
   "id": "9905be0b",
   "metadata": {},
   "source": [
    "# Altimetry Corrections Model\n",
    "\n",
    "### Learning objectives\n",
    "\n",
    "* ...\n",
    "\n",
    "### Outline\n",
    "\n",
    "....\n",
    "\n",
    "<div class=\"alert alert-info\" role=\"alert\">\n",
    "\n",
    "## <a id='TOC-TOP'></a>Contents\n",
    "\n",
    "</div>\n",
    "    \n",
    " 1. [Setting up the model](#section1)\n",
    " 1. [Running the model](#section2)\n",
    "\n",
    "<hr>"
   ]
  },
  {
   "cell_type": "markdown",
   "id": "cbde77c2",
   "metadata": {},
   "source": [
    "<div class=\"alert alert-info\" role=\"alert\">\n",
    "\n",
    "## <a id='section1'></a>1. Setting up the model\n",
    "[Back to top](#TOC-TOP)\n",
    "\n",
    "</div>"
   ]
  },
  {
   "cell_type": "markdown",
   "id": "37edf1f1",
   "metadata": {},
   "source": [
    "The forward model is built entirely in Python and can be simply imported using the single line below. Should you wish to explore the code, you can find the models modules in the `correction_model` folder in the same directory of this notebook. "
   ]
  },
  {
   "cell_type": "code",
   "execution_count": 1,
   "id": "602e5727",
   "metadata": {
    "tags": []
   },
   "outputs": [],
   "source": [
    "%matplotlib widget\n",
    "import correction_model"
   ]
  },
  {
   "cell_type": "markdown",
   "id": "02726cb8",
   "metadata": {},
   "source": [
    "Now that the components of the model are imported we can initialise it using the `correction_model.CorrectionModel()` method. We shall choose to save this into a variable called `model` so that we can manipulate some of its attributes, should we want to.\n",
    "\n",
    "*Note: For example, if you want to change the ylimits of the Rrs axis you can use `model.ax_rrs.set_ylim([lower, upper])`* <<< FIX"
   ]
  },
  {
   "cell_type": "code",
   "execution_count": 2,
   "id": "fe34b37b",
   "metadata": {},
   "outputs": [],
   "source": [
    "model = correction_model.CorrectionModel()"
   ]
  },
  {
   "cell_type": "markdown",
   "id": "64be01e4",
   "metadata": {},
   "source": [
    "<div class=\"alert alert-info\" role=\"alert\">\n",
    "\n",
    "## <a id='section2'></a>2. Running the model\n",
    "[Back to top](#TOC-TOP)\n",
    "\n",
    "</div>"
   ]
  },
  {
   "cell_type": "markdown",
   "id": "8b30eb1d",
   "metadata": {},
   "source": [
    "UPDATE TEXT\n",
    "\n",
    "...."
   ]
  },
  {
   "cell_type": "code",
   "execution_count": 3,
   "id": "4b99f7cb",
   "metadata": {},
   "outputs": [
    {
     "data": {
      "application/vnd.jupyter.widget-view+json": {
       "model_id": "d9f5db17c56c4ddda76be9825ad08da6",
       "version_major": 2,
       "version_minor": 0
      },
      "text/plain": [
       "CorrectionModel(children=(HBox(children=(Output(layout=Layout(height='150px', margin='0px 10px 10px 0px', padd…"
      ]
     },
     "execution_count": 3,
     "metadata": {},
     "output_type": "execute_result"
    }
   ],
   "source": [
    "model"
   ]
  },
  {
   "cell_type": "markdown",
   "id": "08a88f82",
   "metadata": {},
   "source": [
    "<a href=\"https://gitlab.com/benloveday/oc_forward_model\" target=\"_blank\">View on GitLab</a> | <a href=\"https://training.eumetsat.int/\" target=\"_blank\">EUMETSAT Training</a> | <a href=mailto:ops@eumetsat.int target=\"_blank\">Contact helpdesk for support </a> | <a href=mailto:Copernicus.training@eumetsat.int target=\"_blank\">Contact our training team to collaborate on and reuse this material</a></span></p>"
   ]
  }
 ],
 "metadata": {
  "kernelspec": {
   "display_name": "Python 3 (ipykernel)",
   "language": "python",
   "name": "python3"
  },
  "language_info": {
   "codemirror_mode": {
    "name": "ipython",
    "version": 3
   },
   "file_extension": ".py",
   "mimetype": "text/x-python",
   "name": "python",
   "nbconvert_exporter": "python",
   "pygments_lexer": "ipython3",
   "version": "3.9.16"
  }
 },
 "nbformat": 4,
 "nbformat_minor": 5
}
