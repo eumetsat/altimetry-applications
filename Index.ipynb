{
 "cells": [
  {
   "cell_type": "markdown",
   "metadata": {
    "Collapsed": "false"
   },
   "source": [
    "<img src='https://gitlab.eumetsat.int/eumetlab/oceans/ocean-training/tools/frameworks/-/raw/main/img/Standard_banner.png' align='right' width='100%'/>"
   ]
  },
  {
   "cell_type": "markdown",
   "metadata": {},
   "source": [
    "<font color=\"#138D75\">**Copernicus Marine Training Service**</font> <br>\n",
    "**Copyright:** 2022 EUMETSAT <br>\n",
    "**License:** MIT"
   ]
  },
  {
   "cell_type": "markdown",
   "metadata": {},
   "source": [
    "<div class=\"alert alert-block alert-success\">\n",
    "<h3>Learn OLCI</h3></div>"
   ]
  },
  {
   "cell_type": "markdown",
   "metadata": {
    "Collapsed": "false"
   },
   "source": [
    "# Index for the altimetry-applications module\n",
    "\n",
    "### About altimetry-applications\n",
    "\n",
    "...\n",
    "\n",
    "### Module outline\n",
    "\n",
    "The **altimetry-applications** module consists of a collection of Python-based Jupyter notebooks designed to demonstrate various facets of using altimetry data from various sensors at level-1 to level-4. The module will introduce you to:\n",
    "\n",
    "* ...\n",
    "\n",
    "<hr>\n",
    "\n",
    "### How to use this material\n",
    "\n",
    "This module is based around a series of <a href=\"https://jupyter.org/\" target=\"_blank\">Jupyter Notebooks</a>. These support high-level interactive learning by allowing us to combine code, text descriptions and data visualisations. If you have not worked with Jupyter Notebooks before, please look at the\n",
    "\n",
    "<a href=\"./working-with-python/Intro_to_Python_and_Jupyter.ipynb\" target=\"_blank\">Introduction to Python and Project Jupyter</a> module to get a short introduction to their usage and benefits. Refer to this module's **README** for further information on how to set up Jupyter.\n",
    "\n",
    "There is a suggested order in which to access the notebooks, and pre-requisites where applicable are listed at the top of each notebook. However, not all notebooks may be relevant for every user, so we have tried to make each one as self contained as possible.\n",
    "\n",
    "<hr>\n",
    "\n",
    "### Learning outcomes\n",
    "\n",
    "From this module, you can expect to learn:\n",
    "* ...\n",
    "\n",
    "<hr>"
   ]
  },
  {
   "cell_type": "markdown",
   "metadata": {},
   "source": [
    "<div class=\"alert alert-info\" role=\"alert\">\n",
    "\n",
    "## <a id='TOC_TOP'></a>Contents\n",
    "\n",
    "</div>\n",
    "    \n",
    "This modules offers notebooks for introductory and advanced uses of altimetry data.\n",
    "\n",
    "<h3>Altimetry <font color=\"#229954\"> introductory</font> notebooks.</h3>\n",
    "\n",
    " These resources will introduce you to the fundamentals of altimetry<br>\n",
    " *  ...\n",
    " \n",
    "<h3>Altimetry <font color=\"#DC7633\"> advanced</font> notebooks</h3>\n",
    " \n",
    " These resources build on the fundamentals, covering more advanced uses of altimetry.<br>\n",
    " *  ..."
   ]
  },
  {
   "cell_type": "markdown",
   "metadata": {},
   "source": [
    "<hr>\n",
    "<a href=\"https://gitlab.eumetsat.int/eumetlab/ocean\">View on GitLab</a> | <a href=\"https://training.eumetsat.int/\">EUMETSAT Training</a> | <a href=mailto:ops@eumetsat.int>Contact helpdesk for support </a> | <a href=mailto:Copernicus.training@eumetsat.int>Contact our training team to collaborate on and reuse this material</a></span></p>"
   ]
  }
 ],
 "metadata": {
  "kernelspec": {
   "display_name": "Python 3 (ipykernel)",
   "language": "python",
   "name": "python3"
  },
  "language_info": {
   "codemirror_mode": {
    "name": "ipython",
    "version": 3
   },
   "file_extension": ".py",
   "mimetype": "text/x-python",
   "name": "python",
   "nbconvert_exporter": "python",
   "pygments_lexer": "ipython3",
   "version": "3.9.18"
  }
 },
 "nbformat": 4,
 "nbformat_minor": 4
}
